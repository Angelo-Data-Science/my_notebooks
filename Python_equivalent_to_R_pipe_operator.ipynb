{
  "nbformat": 4,
  "nbformat_minor": 0,
  "metadata": {
    "colab": {
      "provenance": [],
      "collapsed_sections": [
        "g24EzPr4zjNa"
      ]
    },
    "kernelspec": {
      "name": "python3",
      "display_name": "Python 3"
    },
    "language_info": {
      "name": "python"
    }
  },
  "cells": [
    {
      "cell_type": "markdown",
      "source": [
        "# **A Python Equivalent to R's Pipe Operator**\n",
        "*By Angelo B.*"
      ],
      "metadata": {
        "id": "-chMIaJ7wit2"
      }
    },
    {
      "cell_type": "markdown",
      "source": [
        "## **No direct equivalent, but...**\n",
        "\n",
        "There isn't a direct, built-in equivalent in Python to the **`%>%`** pipe operator of **R**, but the concept of chaining operations together for better readability and a more sequential flow can be achieved in Python. The closest parallel is probably **method chaining** and the use of libraries like **Pandas**, which has method chaining capabilities of its own."
      ],
      "metadata": {
        "id": "9_9Y2dDIwiNB"
      }
    },
    {
      "cell_type": "markdown",
      "source": [
        "### **1. Method Chaining:**\n",
        "\n",
        "Method Chaining is common in object-oriented programming. In Python, you can often see it. This is where the output of one **method call** directly calls another method on the same object. Pandas is ideal for that. See an example below:"
      ],
      "metadata": {
        "id": "5hMY7r6dxGfW"
      }
    },
    {
      "cell_type": "code",
      "execution_count": null,
      "metadata": {
        "colab": {
          "base_uri": "https://localhost:8080/"
        },
        "id": "-kV8SlzDv6JK",
        "outputId": "327c3b89-50f2-49f4-c247-1850a9f46cb0"
      },
      "outputs": [
        {
          "output_type": "stream",
          "name": "stdout",
          "text": [
            "['A', 'C']\n"
          ]
        }
      ],
      "source": [
        "# importing pandas\n",
        "import pandas as pd\n",
        "\n",
        "# creating the data\n",
        "data = {'col1': [1, 2, 3, 4], 'col2': ['a', 'b', 'a', 'c']}\n",
        "df = pd.DataFrame(data)\n",
        "\n",
        "# using method chaining in pandas\n",
        "result = (df.query('col1 > 2')\n",
        "          .loc[:, 'col2']\n",
        "          .str.upper()\n",
        "          .tolist())\n",
        "\n",
        "print(result)"
      ]
    },
    {
      "cell_type": "markdown",
      "source": [
        "In the example above:\n",
        "\n",
        "* `df.query('col1 > 2')` returns a new data frame;\n",
        "* `.loc[:, 'col2']` is then called on the new data frame to select a column (which returns a series);\n",
        "* `.str.upper()` is next called on the series to convert strings to uppercase;\n",
        "* `.tolist()` is finally called on the resulting series to convert it to a list.\n",
        "\n",
        "In Python, parentheses and indentation help you visually chain the operations. Thtat's similar to how pipes work in R -- each method call operates on the result of the previous one."
      ],
      "metadata": {
        "id": "vojvs83ay9Dn"
      }
    },
    {
      "cell_type": "markdown",
      "source": [
        "### **2. Similarities and Differences**\n",
        "\n",
        "**Similarity:** Both in R's pipe and in Python's method chaining are approaches that aim to make the sequence of operations on the data structure more readable, more linear. You see the transformations happening step-by-step.\n",
        "\n",
        "**Difference:** In Python's method chaining, each function being chained is a **method** of the object that it's being called on. But in R's pipe, you're passing the output to independent functions."
      ],
      "metadata": {
        "id": "g24EzPr4zjNa"
      }
    },
    {
      "cell_type": "markdown",
      "source": [
        "### **3. Considerations**\n",
        "\n",
        "**Libraries and their fluent interfaces:** Libraries like pandas have a fluent interface, and that encourages method chaining. In fact, many pandas operations return a new data frame or series, which allows you to chain further operations.\n",
        "\n",
        "**Functional programming concepts (less equivalence):** Python can also support functional programming concepts, the likes of `map`, `filter`, and `reduce`. They allow similar data transformations, but don't have the same sequential readability that R's pipe operator has. These functions could be nested, but the operations would look so clear. So they can't really be considered as an option you'd like to use."
      ],
      "metadata": {
        "id": "DB64QOmf0Jbz"
      }
    },
    {
      "cell_type": "markdown",
      "source": [
        "##**Takeaways**\n",
        "\n",
        "Python doesn't have a dedicated operator that exactly corresponds to `%>%` in R, but the concept of sequentially applying operations is often achieved through **method chaining**, particularly using libraries like **Pandas**, that are designed to facilitate data manipulation through a more fluent, more readable style, giving you some of the benefits of R's pipe operator. It's reasonable to argue that a well structured series of method calls in pandas is a close equivalent in Python if you want to achieve a similar sequential data transformations."
      ],
      "metadata": {
        "id": "pG95eE3v30K-"
      }
    }
  ]
}