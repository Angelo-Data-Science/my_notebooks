{
  "nbformat": 4,
  "nbformat_minor": 0,
  "metadata": {
    "colab": {
      "provenance": []
    },
    "kernelspec": {
      "name": "ir",
      "display_name": "R"
    },
    "language_info": {
      "name": "R"
    }
  },
  "cells": [
    {
      "cell_type": "markdown",
      "source": [
        "# **Using R pipe operator**"
      ],
      "metadata": {
        "id": "wc7p8aVMlDhJ"
      }
    },
    {
      "cell_type": "markdown",
      "source": [
        "## A simple example of how to use R' pipe operator"
      ],
      "metadata": {
        "id": "A9rXjbyjvxR4"
      }
    },
    {
      "cell_type": "code",
      "execution_count": 1,
      "metadata": {
        "colab": {
          "base_uri": "https://localhost:8080/"
        },
        "id": "Y55rwVGjkYPt",
        "outputId": "d51b1132-30b3-4310-e8f9-793a6642bdb9"
      },
      "outputs": [
        {
          "output_type": "stream",
          "name": "stderr",
          "text": [
            "\n",
            "Attaching package: ‘dplyr’\n",
            "\n",
            "\n",
            "The following objects are masked from ‘package:stats’:\n",
            "\n",
            "    filter, lag\n",
            "\n",
            "\n",
            "The following objects are masked from ‘package:base’:\n",
            "\n",
            "    intersect, setdiff, setequal, union\n",
            "\n",
            "\n"
          ]
        }
      ],
      "source": [
        "# importing libraries dplyr and stringr\n",
        "library(dplyr)\n",
        "library(stringr)"
      ]
    },
    {
      "cell_type": "code",
      "source": [
        "# creating the data\n",
        "data <- data.frame(col1 = c(1, 2, 3, 4),\n",
        "                   col2 = c(\"a\", \"b\", \"a\", \"c\"),\n",
        "                   col3 = c(\"blue\", \"gray\", \"red\", \"yellow\"))"
      ],
      "metadata": {
        "id": "FqbbDnGDlqBV"
      },
      "execution_count": 4,
      "outputs": []
    },
    {
      "cell_type": "code",
      "source": [
        "data"
      ],
      "metadata": {
        "colab": {
          "base_uri": "https://localhost:8080/",
          "height": 223
        },
        "id": "3laXq6bd9HgL",
        "outputId": "d4d25fb6-76f5-421e-ecb5-2ca1077dc9f8"
      },
      "execution_count": 7,
      "outputs": [
        {
          "output_type": "display_data",
          "data": {
            "text/html": [
              "<table class=\"dataframe\">\n",
              "<caption>A data.frame: 4 × 3</caption>\n",
              "<thead>\n",
              "\t<tr><th scope=col>col1</th><th scope=col>col2</th><th scope=col>col3</th></tr>\n",
              "\t<tr><th scope=col>&lt;dbl&gt;</th><th scope=col>&lt;chr&gt;</th><th scope=col>&lt;chr&gt;</th></tr>\n",
              "</thead>\n",
              "<tbody>\n",
              "\t<tr><td>1</td><td>a</td><td>blue  </td></tr>\n",
              "\t<tr><td>2</td><td>b</td><td>gray  </td></tr>\n",
              "\t<tr><td>3</td><td>a</td><td>red   </td></tr>\n",
              "\t<tr><td>4</td><td>c</td><td>yellow</td></tr>\n",
              "</tbody>\n",
              "</table>\n"
            ],
            "text/markdown": "\nA data.frame: 4 × 3\n\n| col1 &lt;dbl&gt; | col2 &lt;chr&gt; | col3 &lt;chr&gt; |\n|---|---|---|\n| 1 | a | blue   |\n| 2 | b | gray   |\n| 3 | a | red    |\n| 4 | c | yellow |\n\n",
            "text/latex": "A data.frame: 4 × 3\n\\begin{tabular}{lll}\n col1 & col2 & col3\\\\\n <dbl> & <chr> & <chr>\\\\\n\\hline\n\t 1 & a & blue  \\\\\n\t 2 & b & gray  \\\\\n\t 3 & a & red   \\\\\n\t 4 & c & yellow\\\\\n\\end{tabular}\n",
            "text/plain": [
              "  col1 col2 col3  \n",
              "1 1    a    blue  \n",
              "2 2    b    gray  \n",
              "3 3    a    red   \n",
              "4 4    c    yellow"
            ]
          },
          "metadata": {}
        }
      ]
    },
    {
      "cell_type": "code",
      "source": [
        "# operating (upper case of a selection of the data) with pipe and showing result:\n",
        "result <- data %>%\n",
        "  filter(col1 > 2) %>%\n",
        "  select(col2) %>%\n",
        "  pull(col2) %>%\n",
        "  str_to_upper()\n",
        "\n",
        "result"
      ],
      "metadata": {
        "colab": {
          "base_uri": "https://localhost:8080/",
          "height": 34
        },
        "id": "OTh-hlErrWQi",
        "outputId": "37a79f71-24d6-4cc0-a16b-9e98851eea91"
      },
      "execution_count": 8,
      "outputs": [
        {
          "output_type": "display_data",
          "data": {
            "text/html": [
              "<style>\n",
              ".list-inline {list-style: none; margin:0; padding: 0}\n",
              ".list-inline>li {display: inline-block}\n",
              ".list-inline>li:not(:last-child)::after {content: \"\\00b7\"; padding: 0 .5ex}\n",
              "</style>\n",
              "<ol class=list-inline><li>'A'</li><li>'C'</li></ol>\n"
            ],
            "text/markdown": "1. 'A'\n2. 'C'\n\n\n",
            "text/latex": "\\begin{enumerate*}\n\\item 'A'\n\\item 'C'\n\\end{enumerate*}\n",
            "text/plain": [
              "[1] \"A\" \"C\""
            ]
          },
          "metadata": {}
        }
      ]
    }
  ]
}